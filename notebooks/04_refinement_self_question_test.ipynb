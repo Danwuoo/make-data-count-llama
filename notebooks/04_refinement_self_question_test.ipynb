{
 "cells": [
  {
   "cell_type": "code",
   "execution_count": null,
   "metadata": {},
   "outputs": [],
   "source": [
    "from utils.refinement import SelfQuestioner\n",
    "sq = SelfQuestioner()\n",
    "context = {\n",
    "    'context_id': 'ctx1',\n",
    "    'text': 'This sentence refers to the XYZ dataset for comparison.',\n",
    "    'doc_id': 'DOC1',\n",
    "    'section': 'results',\n",
    "    'confidence': 0.52,\n",
    "}\n",
    "questions = sq.generate(context, 'secondary')\n",
    "questions[:2]"
   ]
  }
 ],
 "metadata": {
  "kernelspec": {
   "display_name": "Python 3",
   "language": "python",
   "name": "python3"
  },
  "language_info": {
   "name": "python"
  }
 },
 "nbformat": 4,
 "nbformat_minor": 2
}
