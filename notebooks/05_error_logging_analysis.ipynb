{
 "cells": [
  {
   "cell_type": "markdown",
   "id": "8ab68b3c",
   "metadata": {},
   "source": [
    "# Error Logging Analysis"
   ]
  },
  {
   "cell_type": "code",
   "execution_count": null,
   "id": "a39d517d",
   "metadata": {},
   "outputs": [],
   "source": [
    "from utils.meta_cognition.error_query import ErrorQueryAPI\n",
    "\n",
    "api = ErrorQueryAPI()\n",
    "errors = api.load()\n",
    "len(errors)"
   ]
  }
 ],
 "metadata": {},
 "nbformat": 4,
 "nbformat_minor": 5
}
