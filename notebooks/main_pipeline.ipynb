{
 "cells": [
  {
   "cell_type": "markdown",
   "id": "intro",
   "metadata": {},
   "source": [
    "# CLI Pipeline Demo\n",
    "\n",
    "Run the full Make Data Count pipeline from the command line. The repository should be cloned to `/kaggle/working/make-data-count-llama`."
   ]
  },
  {
   "cell_type": "code",
   "execution_count": null,
   "id": "run-pipeline",
   "metadata": {},
   "outputs": [],
   "source": [
    "!python scripts/main_pipeline.py \\\n",
    "  --model qwen \\\n",
    "  --model-path /kaggle/input/qwen2-7b \\\n",
    "  --input data/context/context.jsonl \\\n",
    "  --output data/submission/submission.csv \\\n",
    "  --reask \\\n",
    "  --save-errors\n"
   ]
  },
  {
   "cell_type": "markdown",
   "id": "args",
   "metadata": {},
   "source": [
    "### CLI arguments\n",
    "- `--model`: model backend to use (e.g., `llama3`, `qwen`, `deepseek`).\n",
    "- `--model-path`: path to the model weights directory.\n",
    "- `--input`: path to the context `.jsonl` file.\n",
    "- `--output`: where to save the final `submission.csv`.\n",
    "- `--reask`: enable self-refinement for low confidence predictions.\n",
    "- `--save-errors`: store low-confidence samples under `data/errors/`.\n"
   ]
  },
  {
    "cell_type": "code",
    "execution_count": null,
    "id": "preview",
    "metadata": {},
    "outputs": [],
    "source": [
      "import pandas as pd\n",
      "df = pd.read_csv('data/submission/submission.csv')\n",
      "df.head()\n"
    ]
  }
 ],
 "metadata": {
  "kernelspec": {
   "display_name": "Python 3",
   "language": "python",
   "name": "python3"
  },
  "language_info": {
   "name": "python",
   "version": "3.10"
  }
 },
 "nbformat": 4,
 "nbformat_minor": 5
}
